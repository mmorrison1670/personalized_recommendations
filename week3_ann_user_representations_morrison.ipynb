{
  "cells": [
    {
      "cell_type": "markdown",
      "metadata": {
        "id": "view-in-github",
        "colab_type": "text"
      },
      "source": [
        "<a href=\"https://colab.research.google.com/github/mmorrison1670/personalized_recommendations/blob/main/week3_ann_user_representations_morrison.ipynb\" target=\"_parent\"><img src=\"https://colab.research.google.com/assets/colab-badge.svg\" alt=\"Open In Colab\"/></a>"
      ]
    },
    {
      "cell_type": "code",
      "execution_count": 1,
      "metadata": {
        "colab": {
          "base_uri": "https://localhost:8080/"
        },
        "id": "a424b415-b8ef-47b3-84ee-7c40332e01ef",
        "outputId": "4b987c5c-8534-4683-8f0f-e77908e64987"
      },
      "outputs": [
        {
          "output_type": "stream",
          "name": "stdout",
          "text": [
            "Looking in indexes: https://pypi.org/simple, https://us-python.pkg.dev/colab-wheels/public/simple/\n",
            "Requirement already satisfied: faiss-cpu in /usr/local/lib/python3.7/dist-packages (1.7.2)\n"
          ]
        }
      ],
      "source": [
        "!pip install faiss-cpu --no-cache"
      ],
      "id": "a424b415-b8ef-47b3-84ee-7c40332e01ef"
    },
    {
      "cell_type": "code",
      "execution_count": 2,
      "metadata": {
        "id": "837dcaa9-cc0b-4345-bbee-3a09683decf9"
      },
      "outputs": [],
      "source": [
        "import pickle\n",
        "import faiss\n",
        "import numpy as np\n",
        "import pandas as pd\n",
        "import seaborn as sns"
      ],
      "id": "837dcaa9-cc0b-4345-bbee-3a09683decf9"
    },
    {
      "cell_type": "markdown",
      "metadata": {
        "id": "41f1f7cb-9441-4fe1-962e-9e4cb3e3c192"
      },
      "source": [
        "# **Welcome to week 3 project!**\n",
        "\n",
        "Congratulations on making it to week 3! 👏 In the first week of this course, we covered the basics of how to design personalized recommendation systems. We then provided some system design examples for large scale recommenders from corporations like Spotify and YouTube, as well as techniques for candidate generation, specifically the two-tower model being used at Twitter and Pinterest.\n",
        "\n",
        "Last week, we covered details of ML approaches for recommendations: including multi-task recommenders and contextual bandits.\n",
        "\n",
        "In week 3, we covered various techniques for learning user representations.\n",
        "\n",
        "In this week's project, we will touch upon two key aspects related to representations:\n",
        "1. How do we query large amount of vectors in efficient time.\n",
        "2. How can we infer various user representations and see what their impact is on downstream task.\n",
        "\n",
        "Lets begin with Part A, which tells us how we could handle a large number of candidate items or user representations in an efficient manner. \n"
      ],
      "id": "41f1f7cb-9441-4fe1-962e-9e4cb3e3c192"
    },
    {
      "cell_type": "markdown",
      "metadata": {
        "id": "d0e01328-6834-4b11-85c1-03867e1d4860"
      },
      "source": [
        "# Part A: Approximate nearest neighbor search\n",
        "\n",
        "Often we are interested in finding nearest neighbors in a large space of vectors. To store embeddings for 400 million users and over 100 million items and querying them in real time is a challenging task. This is where approximate nearest neighbor approaches step in to help. Annoy, Faiss, ScaNN are typical libraries that are used for efficient vector similarity search at scale. They implement algorithms that search in sets of vectors of any size, up to ones that possibly do not fit in RAM.\n",
        "\n",
        "In the first part of this week's project, we will simulate embeddings of 1 million items and try to find k-nearest neighbours for an item of interest. We will implement a vanilla search function to fetch the top-k nearest neighbors and estimate the time it takes for us to do so. We will then compare this with FAISS -- Facebook's nearest neighbour search library, and compare the time it takes for us to get nearest neighbours from FAISS versus our own implementation."
      ],
      "id": "d0e01328-6834-4b11-85c1-03867e1d4860"
    },
    {
      "cell_type": "markdown",
      "metadata": {
        "id": "3fa2b438-be53-4f39-b990-859046a4a560"
      },
      "source": [
        "Lets first generate a simulated dataset of embeddings of 1 million items."
      ],
      "id": "3fa2b438-be53-4f39-b990-859046a4a560"
    },
    {
      "cell_type": "code",
      "execution_count": 3,
      "metadata": {
        "id": "8c36fc8b-a032-4b48-bbeb-3bff46624615"
      },
      "outputs": [],
      "source": [
        "d = 64                           # dimension\n",
        "nb = 1000000                     # database size\n",
        "nq = 10000                       # nb of queries\n",
        "np.random.seed(1234)             # make reproducible\n",
        "xb = np.random.random((nb, d)).astype('float32')\n",
        "xq = np.random.random((nq, d)).astype('float32')"
      ],
      "id": "8c36fc8b-a032-4b48-bbeb-3bff46624615"
    },
    {
      "cell_type": "markdown",
      "metadata": {
        "id": "142c00a5-f36b-4a5f-9e27-4a3e38b467d7"
      },
      "source": [
        "Now that we have these items, lets take up the goal of finding the top-5 items closest to this specific item. Your goal is to implement your function to estimate the top-5 items and print the average distance of these top 5 items to the query item."
      ],
      "id": "142c00a5-f36b-4a5f-9e27-4a3e38b467d7"
    },
    {
      "cell_type": "code",
      "execution_count": 4,
      "metadata": {
        "id": "b2dd70b9-8d2c-4134-b866-ab09af43a47d"
      },
      "outputs": [],
      "source": [
        "k=4\n",
        "query_vector = xb[2:3]"
      ],
      "id": "b2dd70b9-8d2c-4134-b866-ab09af43a47d"
    },
    {
      "cell_type": "code",
      "source": [
        "print(query_vector)"
      ],
      "metadata": {
        "colab": {
          "base_uri": "https://localhost:8080/"
        },
        "id": "k5S52HV_TVNS",
        "outputId": "7e22ce3e-5578-4392-cbc0-01e9320fcfae"
      },
      "id": "k5S52HV_TVNS",
      "execution_count": 5,
      "outputs": [
        {
          "output_type": "stream",
          "name": "stdout",
          "text": [
            "[[0.07334255 0.0550064  0.3231948  0.5904818  0.8538986  0.28706244\n",
            "  0.17306723 0.13402121 0.9946538  0.17949787 0.3175468  0.5682914\n",
            "  0.00934857 0.9006486  0.97724146 0.55689466 0.08477385 0.33300248\n",
            "  0.72842866 0.14243537 0.55246896 0.27304325 0.9744951  0.6677869\n",
            "  0.2556533  0.1083115  0.77618074 0.782478   0.7616039  0.91440314\n",
            "  0.6586228  0.5683676  0.20175569 0.69829637 0.9521954  0.88996327\n",
            "  0.99356735 0.81870353 0.54512215 0.45125407 0.89055717 0.9732648\n",
            "  0.5934113  0.3660745  0.3230947  0.87142324 0.21563406 0.7349452\n",
            "  0.3656191  0.8016026  0.7827356  0.7013554  0.62277657 0.49368265\n",
            "  0.8405377  0.712097   0.443909   0.03103486 0.36323977 0.7307218\n",
            "  0.47556657 0.34441698 0.6408804  0.12620533]]\n"
          ]
        }
      ]
    },
    {
      "cell_type": "code",
      "source": [
        "#can also use knn from sklearn "
      ],
      "metadata": {
        "id": "GIVD56_yWRoS"
      },
      "id": "GIVD56_yWRoS",
      "execution_count": 6,
      "outputs": []
    },
    {
      "cell_type": "code",
      "execution_count": 7,
      "metadata": {
        "id": "84a94ee2-3131-44c5-ba95-ec67aa675048"
      },
      "outputs": [],
      "source": [
        "def find_top_k_nn(query_vector,k):\n",
        "    \"\"\"\n",
        "    in this function, implement your definition of top-k nearest neighbours, and return the distances\n",
        "    and indices of the these top-k items.\n",
        "    \"\"\"\n",
        "    #initialize the list\n",
        "    idx_dist = []\n",
        "    \n",
        "    #iterate over indices and vectors\n",
        "    for idx, vec in enumerate(xb):\n",
        "\n",
        "    #use l2 norm for distance\n",
        "      idx_dist.append((idx, np.linalg.norm(vec-query_vector)))\n",
        "\n",
        "    #sort based on the distance\n",
        "    sorted_vecs = sorted(idx_dist, key=lambda tup: tup[1])[:k]\n",
        "\n",
        "    #invert the list and assign to i and d\n",
        "    I,D = list(zip(*sorted_vecs))\n",
        "\n",
        "    return np.array(D), np.array(I)"
      ],
      "id": "84a94ee2-3131-44c5-ba95-ec67aa675048"
    },
    {
      "cell_type": "markdown",
      "metadata": {
        "id": "b8a895ce-4f0b-41a5-8243-90f18bff8d7b"
      },
      "source": [
        "With your top-k NN function implemented, call this function to get the top-k nearest neighbor items for the query_vector and print the average distance. Also, print the time it takes to run this function:"
      ],
      "id": "b8a895ce-4f0b-41a5-8243-90f18bff8d7b"
    },
    {
      "cell_type": "code",
      "execution_count": 8,
      "metadata": {
        "colab": {
          "base_uri": "https://localhost:8080/"
        },
        "id": "0df9e9f8-a854-4896-9ebd-fd74bad21690",
        "outputId": "2b8015f2-6c2a-4b11-ac00-bd21056d1b2b"
      },
      "outputs": [
        {
          "output_type": "stream",
          "name": "stdout",
          "text": [
            "distances from the k nearest neighbor fetched: [0.        2.0543842 2.0941474 2.1664221]\n",
            "indices from the k nearest neighbor fetched: [     2 379284 539651 400245]\n",
            "average distance of the k- nearest neighbors fetched:  1.5787385\n",
            "CPU times: user 8.3 s, sys: 1.05 s, total: 9.35 s\n",
            "Wall time: 8.41 s\n"
          ]
        }
      ],
      "source": [
        "%%time\n",
        "D, I = find_top_k_nn(query_vector, k)\n",
        "print(\"distances from the k nearest neighbor fetched:\",D)\n",
        "print(\"indices from the k nearest neighbor fetched:\",I)\n",
        "print(\"average distance of the k- nearest neighbors fetched: \",D.mean())"
      ],
      "id": "0df9e9f8-a854-4896-9ebd-fd74bad21690"
    },
    {
      "cell_type": "markdown",
      "metadata": {
        "id": "bd4452f5-ce17-43df-95f2-e9b58e8cad5e"
      },
      "source": [
        "Now lets switch to using Faiss https://github.com/facebookresearch/faiss\n",
        "\n",
        "Faiss is a library for efficient similarity search and clustering of dense vectors. It contains algorithms that search in sets of vectors of any size, up to ones that possibly do not fit in RAM. "
      ],
      "id": "bd4452f5-ce17-43df-95f2-e9b58e8cad5e"
    },
    {
      "cell_type": "markdown",
      "metadata": {
        "id": "b6427be9-53b2-446c-851b-b2f6b7db9fa6"
      },
      "source": [
        "### Similarity search in Faiss\n",
        "\n",
        "Given a set of vectors x_i in dimension d, Faiss builds a data structure in RAM. After the structure is constructed, when given a new vector x in dimension d it performs efficiently the operation:\n",
        "\n",
        "$i = argmin_i ||x - x_i||$\n",
        "\n",
        "where ||.|| is the Euclidean distance (L2).\n",
        "\n",
        "In Faiss terms, the data structure is an index, an object that has an add method to add x_i vectors. Note that the x_i's are assumed to be fixed. Computing the argmin is the search operation on the index.\n",
        "\n",
        "### Indexes used by Faiss\n",
        "\n",
        "1. The inverted file from “Video google: A text retrieval approach to object matching in videos.”, Sivic & Zisserman, ICCV 2003. This is the key to non-exhaustive search in large datasets. Otherwise all searches would need to scan all elements in the index, which is prohibitive even if the operation to apply for each element is fast\n",
        "\n",
        "\n",
        "2. The product quantization (PQ) method from “Product quantization for nearest neighbor search”, Jégou & al., PAMI 2011. This can be seen as a lossy compression technique for high-dimensional vectors, that allows relatively accurate reconstructions and distance computations in the compressed domain.\n",
        "\n",
        "\n",
        "3. The three-level quantization (IVFADC-R aka IndexIVFPQR) method from \"Searching in one billion vectors: re-rank with source coding\", Tavenard & al., ICASSP'11."
      ],
      "id": "b6427be9-53b2-446c-851b-b2f6b7db9fa6"
    },
    {
      "cell_type": "markdown",
      "metadata": {
        "id": "3e63810d-fd22-49ca-b4bd-423ebf348c5f"
      },
      "source": [
        "We will implement these three indexes from faiss and use each of these three to search the index, and get the top-k nearest neighbour vectors, and estimate the average distance.\n",
        "\n",
        "Lets first construct the three indexes: index1, index2, index3 based on Flat index, Inverted index and product quantization techniques:"
      ],
      "id": "3e63810d-fd22-49ca-b4bd-423ebf348c5f"
    },
    {
      "cell_type": "code",
      "execution_count": 9,
      "metadata": {
        "colab": {
          "base_uri": "https://localhost:8080/"
        },
        "id": "76487ec4-a020-4ccd-aa33-f6ef25869048",
        "outputId": "00df7609-5677-434f-cbdf-27a90e138c17"
      },
      "outputs": [
        {
          "output_type": "stream",
          "name": "stdout",
          "text": [
            "total number of vectors indexed =  1000000\n",
            "CPU times: user 97 ms, sys: 377 µs, total: 97.4 ms\n",
            "Wall time: 127 ms\n"
          ]
        }
      ],
      "source": [
        "%%time\n",
        "index1 = faiss.IndexFlatL2(d)   # build the index\n",
        "index1.add(xb)                  # add vectors to the index\n",
        "print(\"total number of vectors indexed = \",index1.ntotal)"
      ],
      "id": "76487ec4-a020-4ccd-aa33-f6ef25869048"
    },
    {
      "cell_type": "code",
      "execution_count": 10,
      "metadata": {
        "colab": {
          "base_uri": "https://localhost:8080/"
        },
        "id": "55447035-57e2-4938-837b-9bf20bf66ff6",
        "outputId": "6eb93a97-fabe-4f39-89f5-5f85cd556c3c"
      },
      "outputs": [
        {
          "output_type": "stream",
          "name": "stdout",
          "text": [
            "total number of vectors indexed =  1000000\n",
            "CPU times: user 3.18 s, sys: 114 ms, total: 3.3 s\n",
            "Wall time: 3.39 s\n"
          ]
        }
      ],
      "source": [
        "%%time\n",
        "nlist = 100\n",
        "quantizer = faiss.IndexFlatL2(d)  # the other index\n",
        "index2 = faiss.IndexIVFFlat(quantizer, d, nlist, faiss.METRIC_L2)\n",
        "index2.train(xb)\n",
        "index2.add(xb)\n",
        "print(\"total number of vectors indexed = \",index2.ntotal)"
      ],
      "id": "55447035-57e2-4938-837b-9bf20bf66ff6"
    },
    {
      "cell_type": "code",
      "execution_count": 11,
      "metadata": {
        "colab": {
          "base_uri": "https://localhost:8080/"
        },
        "id": "f04ebe3c-705d-49b2-aa7b-3602c111c754",
        "outputId": "1033123c-815e-4961-f569-0ba85211dcb9"
      },
      "outputs": [
        {
          "output_type": "stream",
          "name": "stdout",
          "text": [
            "total number of vectors indexed =  1000000\n",
            "CPU times: user 49.5 s, sys: 64.3 ms, total: 49.5 s\n",
            "Wall time: 34.8 s\n"
          ]
        }
      ],
      "source": [
        "%%time\n",
        "nlist = 100\n",
        "m = 8\n",
        "k = 4\n",
        "quantizer = faiss.IndexFlatL2(d)  # this remains the same\n",
        "index3 = faiss.IndexIVFPQ(quantizer, d, nlist, m, 8)\n",
        "                                  # 8 specifies that each sub-vector is encoded as 8 bits\n",
        "index3.train(xb)\n",
        "index3.add(xb)\n",
        "print(\"total number of vectors indexed = \",index3.ntotal)"
      ],
      "id": "f04ebe3c-705d-49b2-aa7b-3602c111c754"
    },
    {
      "cell_type": "markdown",
      "metadata": {
        "id": "047a6682-f771-4672-8998-307f4cfad5f5"
      },
      "source": [
        "Now that we have these three indexes, let us query these to fetch the top-k nearest neghbour for our query_vector and compute the average distance we obtain for each.\n",
        "\n",
        "We will also time these commands, to find out the trade-off between accuracy and latency."
      ],
      "id": "047a6682-f771-4672-8998-307f4cfad5f5"
    },
    {
      "cell_type": "code",
      "execution_count": 12,
      "metadata": {
        "colab": {
          "base_uri": "https://localhost:8080/"
        },
        "id": "2e54dc7d-5d15-47b2-85e4-c583f92d52a8",
        "outputId": "6247158c-6e47-4fed-f27d-b374c39e94aa"
      },
      "outputs": [
        {
          "output_type": "stream",
          "name": "stdout",
          "text": [
            "distances from the k nearest neighbor fetched: [[0.        4.2204943 4.3854527 4.6933837]]\n",
            "indices from the k nearest neighbor fetched: [[     2 379284 539651 400245]]\n",
            "average distance of the k- nearest neighbors fetched:  3.324833\n",
            "CPU times: user 66.7 ms, sys: 33 µs, total: 66.7 ms\n",
            "Wall time: 60.5 ms\n"
          ]
        }
      ],
      "source": [
        "%%time\n",
        "D, I = index1.search(query_vector, k)\n",
        "print(\"distances from the k nearest neighbor fetched:\", D)\n",
        "print(\"indices from the k nearest neighbor fetched:\", I)\n",
        "print(\"average distance of the k- nearest neighbors fetched: \", D.mean())"
      ],
      "id": "2e54dc7d-5d15-47b2-85e4-c583f92d52a8"
    },
    {
      "cell_type": "code",
      "execution_count": 13,
      "metadata": {
        "colab": {
          "base_uri": "https://localhost:8080/"
        },
        "id": "be8f1b17-6108-41fd-814c-caa996fb731d",
        "outputId": "8cefd477-0d61-43fb-afde-c3f4b3192102"
      },
      "outputs": [
        {
          "output_type": "stream",
          "name": "stdout",
          "text": [
            "distances from the k nearest neighbor fetched: [[0.        5.0635023 5.4133463 5.642405 ]]\n",
            "indices from the k nearest neighbor fetched: [[     2 859123 177280  74082]]\n",
            "average distance of the k- nearest neighbors fetched:  4.0298133\n",
            "CPU times: user 3.39 ms, sys: 0 ns, total: 3.39 ms\n",
            "Wall time: 5.6 ms\n"
          ]
        }
      ],
      "source": [
        "%%time\n",
        "D, I = index2.search(query_vector, k)\n",
        "print(\"distances from the k nearest neighbor fetched:\", D)\n",
        "print(\"indices from the k nearest neighbor fetched:\", I)\n",
        "print(\"average distance of the k- nearest neighbors fetched: \", D.mean())"
      ],
      "id": "be8f1b17-6108-41fd-814c-caa996fb731d"
    },
    {
      "cell_type": "code",
      "execution_count": 14,
      "metadata": {
        "colab": {
          "base_uri": "https://localhost:8080/"
        },
        "id": "2b230291-517c-49c5-a634-f9d4d331e241",
        "outputId": "7c1a3065-c861-4db4-80de-76e099ffdfe9"
      },
      "outputs": [
        {
          "output_type": "stream",
          "name": "stdout",
          "text": [
            "distances from the k nearest neighbor fetched: [[1.1111705 5.027693  5.1296997 5.1854224]]\n",
            "indices from the k nearest neighbor fetched: [[     2 351653 703885 841943]]\n",
            "average distance of the k- nearest neighbors fetched:  4.1134963\n",
            "CPU times: user 1.89 ms, sys: 0 ns, total: 1.89 ms\n",
            "Wall time: 4.49 ms\n"
          ]
        }
      ],
      "source": [
        "%%time\n",
        "D, I = index3.search(query_vector, k)\n",
        "print(\"distances from the k nearest neighbor fetched:\", D)\n",
        "print(\"indices from the k nearest neighbor fetched:\", I)\n",
        "print(\"average distance of the k- nearest neighbors fetched: \", D.mean())"
      ],
      "id": "2b230291-517c-49c5-a634-f9d4d331e241"
    },
    {
      "cell_type": "markdown",
      "metadata": {
        "id": "c2c902e3-c9bf-408e-9052-11af5a3b069f"
      },
      "source": [
        "Running all these, we observe that the product quantization based index is an order of magnitude faster than the inverted index. In terms of accuracy, if we assume that the lower the distance the more accurate the result, FlatIndex gives us the least distance."
      ],
      "id": "c2c902e3-c9bf-408e-9052-11af5a3b069f"
    },
    {
      "cell_type": "markdown",
      "metadata": {
        "id": "044a818f-19ab-4c26-8532-922c9aa1d673"
      },
      "source": [
        "### Goal 1 for this week: Implement your k-NN function and time it\n",
        "\n",
        "The main goal for this part of the project is to implement your vanilla nearest neighbor function and fetch the closest k nearest neighbours to the query vector. Important to note that your implementation will give an exact result, i.e., your implementation will find the exact closest k vectors that will give the minimum distance to the query_vector.\n",
        "\n",
        "Please compile the results in a table, and compare the average distance obtained and the time it took to query the 1 million vectors. A nice 2D plot would also give you a good idea of the speed-accuracy trade-off involved."
      ],
      "id": "044a818f-19ab-4c26-8532-922c9aa1d673"
    },
    {
      "cell_type": "code",
      "execution_count": 15,
      "metadata": {
        "id": "2e69dd09-6a21-49a8-8ca8-4d5164a7e674"
      },
      "outputs": [],
      "source": [
        "data = {\n",
        "    'Method': ['vanilla_function', 'faiss_flat', 'faiss_inverted', 'faiss_inverted_product_quantizer'],\n",
        "    'Average distances': [1.58, 3.32, 4.03, 4.11],\n",
        "    'Total CPU time (ms)': [10.1, 66.5, 2.47, 3.86]\n",
        "}\n",
        "data_df = pd.DataFrame(data)"
      ],
      "id": "2e69dd09-6a21-49a8-8ca8-4d5164a7e674"
    },
    {
      "cell_type": "code",
      "source": [
        "print(data_df)"
      ],
      "metadata": {
        "colab": {
          "base_uri": "https://localhost:8080/"
        },
        "id": "-SJEdv8owQTa",
        "outputId": "79a35093-fb15-45d8-9ee2-7295ff7f304c"
      },
      "id": "-SJEdv8owQTa",
      "execution_count": 16,
      "outputs": [
        {
          "output_type": "stream",
          "name": "stdout",
          "text": [
            "                             Method  Average distances  Total CPU time (ms)\n",
            "0                  vanilla_function               1.58                10.10\n",
            "1                        faiss_flat               3.32                66.50\n",
            "2                    faiss_inverted               4.03                 2.47\n",
            "3  faiss_inverted_product_quantizer               4.11                 3.86\n"
          ]
        }
      ]
    },
    {
      "cell_type": "code",
      "source": [
        "sns.scatterplot(data=data_df, x='Total CPU time (ms)', y='Average distances', hue='Method')"
      ],
      "metadata": {
        "colab": {
          "base_uri": "https://localhost:8080/",
          "height": 297
        },
        "id": "j1fJbTbfuqM5",
        "outputId": "a3f8edc7-b0bb-409b-9f5c-55ddff6caff8"
      },
      "id": "j1fJbTbfuqM5",
      "execution_count": 17,
      "outputs": [
        {
          "output_type": "execute_result",
          "data": {
            "text/plain": [
              "<matplotlib.axes._subplots.AxesSubplot at 0x7f443cd59090>"
            ]
          },
          "metadata": {},
          "execution_count": 17
        },
        {
          "output_type": "display_data",
          "data": {
            "text/plain": [
              "<Figure size 432x288 with 1 Axes>"
            ],
            "image/png": "[encoded data removed]"
          },
          "metadata": {
            "needs_background": "light"
          }
        }
      ]
    },
    {
      "cell_type": "markdown",
      "metadata": {
        "id": "e127987e-44f9-43b3-9219-1036edd0d14c"
      },
      "source": [
        "# Part B: User representations"
      ],
      "id": "e127987e-44f9-43b3-9219-1036edd0d14c"
    },
    {
      "cell_type": "markdown",
      "metadata": {
        "id": "13c18e33-3a62-4afe-95af-9d33ef87917c"
      },
      "source": [
        "In the second part of this week's project, we wish to understand few ways of estimating user representations, and how it impacts the performance of downstream tasks.\n",
        "\n",
        "To this end, we will work on top of our H&M dataset, and develop a few different ways of representing users.\n",
        "\n",
        "The broader framework here will be -- we fix the article representations, and fix the downstream task, and then vary the user representations and see how the performance of the downstream task changes based on different user representation techniques.\n"
      ],
      "id": "13c18e33-3a62-4afe-95af-9d33ef87917c"
    },
    {
      "cell_type": "code",
      "execution_count": 18,
      "metadata": {
        "colab": {
          "base_uri": "https://localhost:8080/"
        },
        "id": "dd824205-1569-4b54-8c48-fda93a59053d",
        "outputId": "ce1016a4-c6f5-49ce-c015-7674aa589f9a",
        "scrolled": true
      },
      "outputs": [
        {
          "output_type": "stream",
          "name": "stdout",
          "text": [
            "Looking in indexes: https://pypi.org/simple, https://us-python.pkg.dev/colab-wheels/public/simple/\n",
            "Requirement already satisfied: lightgbm in /usr/local/lib/python3.7/dist-packages (2.2.3)\n",
            "Requirement already satisfied: scipy in /usr/local/lib/python3.7/dist-packages (from lightgbm) (1.7.3)\n",
            "Requirement already satisfied: scikit-learn in /usr/local/lib/python3.7/dist-packages (from lightgbm) (1.0.2)\n",
            "Requirement already satisfied: numpy in /usr/local/lib/python3.7/dist-packages (from lightgbm) (1.21.6)\n",
            "Requirement already satisfied: joblib>=0.11 in /usr/local/lib/python3.7/dist-packages (from scikit-learn->lightgbm) (1.1.0)\n",
            "Requirement already satisfied: threadpoolctl>=2.0.0 in /usr/local/lib/python3.7/dist-packages (from scikit-learn->lightgbm) (3.1.0)\n"
          ]
        }
      ],
      "source": [
        "!pip install lightgbm"
      ],
      "id": "dd824205-1569-4b54-8c48-fda93a59053d"
    },
    {
      "cell_type": "code",
      "execution_count": 19,
      "metadata": {
        "id": "251abdd1-1cd4-41f9-af70-23d22a1aa455"
      },
      "outputs": [],
      "source": [
        "import numpy as np # linear algebra\n",
        "import pandas as pd # data processing, CSV file I/O (e.g. pd.read_csv)\n",
        "import random\n",
        "import gc\n",
        "from sklearn.model_selection import train_test_split\n",
        "from sklearn.model_selection import StratifiedKFold\n",
        "from sklearn.model_selection import GroupShuffleSplit\n",
        "from sklearn.model_selection import GroupKFold\n",
        "from sklearn.preprocessing import LabelEncoder\n",
        "\n",
        "from sklearn.feature_extraction.text import TfidfVectorizer\n",
        "from sklearn.decomposition import TruncatedSVD\n",
        "import lightgbm as lgb\n",
        "import datetime\n",
        "import itertools\n",
        "import os\n",
        "from contextlib import redirect_stdout\n",
        "from tqdm.notebook import tqdm"
      ],
      "id": "251abdd1-1cd4-41f9-af70-23d22a1aa455"
    },
    {
      "cell_type": "markdown",
      "metadata": {
        "id": "219f3784-220e-4889-ae88-09c80f556479"
      },
      "source": [
        "While we have used neural models so far, lets try a tree based model for this task. We use LightGBM library to train the main model. Lets set up few parameters for the lightgbm model, and specify some additional parameters:"
      ],
      "id": "219f3784-220e-4889-ae88-09c80f556479"
    },
    {
      "cell_type": "code",
      "execution_count": 20,
      "metadata": {
        "id": "21e76b18-8d9e-4a1b-bf84-a929c8f16c6f"
      },
      "outputs": [],
      "source": [
        "rand = 64\n",
        "lgb_params = {\n",
        "    \"objective\": \"binary\",\n",
        "    \"boosting\": \"gbdt\",\n",
        "    \"max_depth\": -1,\n",
        "    \"num_leaves\": 40,\n",
        "    \"subsample\": 0.8,\n",
        "    \"subsample_freq\": 1,\n",
        "    \"bagging_seed\": rand,\n",
        "    \"learning_rate\": 0.05,\n",
        "    \"feature_fraction\": 0.6,\n",
        "    \"min_data_in_leaf\": 100,\n",
        "    \"lambda_l1\": 0,\n",
        "    \"lambda_l2\": 0,\n",
        "    \"random_state\": rand,\n",
        "    \"metric\": \"auc\",#\"binary_logloss\",\n",
        "    \"verbose\": -1\n",
        "}\n",
        "\n",
        "tran_dtypes = {\"t_dat\":\"str\",\n",
        "               \"customer_id\":\"str\",\n",
        "               \"article_id\":\"int\",\n",
        "               \"product_code\":\"int\",\n",
        "               \"price\":\"float\",\n",
        "               \"sales_channel_id\":\"int\"}\n",
        "art_dtypes = {\"article_id\":\"int\",\n",
        "              \"product_code\":\"int\",\n",
        "              \"product_type_no\":\"int\",\n",
        "              \"graphical_appearance_no\":\"int\",\n",
        "              \"colour_group_code\":\"int\",\n",
        "              \"department_no\":\"int\",\n",
        "              \"index_code\":\"str\",\n",
        "              \"index_group_no\":\"int\",\n",
        "              \"section_no\":\"int\",\n",
        "              \"garment_group_no\":\"int\"}\n",
        "cust_dtypes = {\"customer_id\":\"str\"}\n",
        "\n",
        "obj = \"class\" # \"class\" or \"rank\"\n",
        "N = 15000\n",
        "n_iter = 2 # num of iteration\n",
        "idx_file = \"exp1\"\n",
        "n_round = 2000\n",
        "n_splits = 1\n",
        "nobuy = 20 # num of negative samples"
      ],
      "id": "21e76b18-8d9e-4a1b-bf84-a929c8f16c6f"
    },
    {
      "cell_type": "code",
      "source": [
        "from google.colab import drive\n",
        "drive.mount('/content/drive')"
      ],
      "metadata": {
        "colab": {
          "base_uri": "https://localhost:8080/"
        },
        "id": "VkzicxBEwwjU",
        "outputId": "5dc8c9c1-aa1c-4183-852a-cd4f045b8af2"
      },
      "id": "VkzicxBEwwjU",
      "execution_count": 21,
      "outputs": [
        {
          "output_type": "stream",
          "name": "stdout",
          "text": [
            "Drive already mounted at /content/drive; to attempt to forcibly remount, call drive.mount(\"/content/drive\", force_remount=True).\n"
          ]
        }
      ]
    },
    {
      "cell_type": "code",
      "source": [
        "!ls drive/MyDrive/hmdata/"
      ],
      "metadata": {
        "colab": {
          "base_uri": "https://localhost:8080/"
        },
        "id": "RWdceT_hw4KK",
        "outputId": "d51072f6-45bb-49e8-9032-148e29e199b3"
      },
      "id": "RWdceT_hw4KK",
      "execution_count": 22,
      "outputs": [
        {
          "output_type": "stream",
          "name": "stdout",
          "text": [
            "articles.csv.zip   sample_submission.csv.zip\n",
            "customers.csv.zip  transactions_train.csv.zip\n"
          ]
        }
      ]
    },
    {
      "cell_type": "markdown",
      "metadata": {
        "id": "3df9c2e0-af9e-406d-a9c6-c38a87347728"
      },
      "source": [
        "While we vary the user represnetations, we will keep the article representation fixed. The code below reads the article.csv file and extracts a number of features to represent articles."
      ],
      "id": "3df9c2e0-af9e-406d-a9c6-c38a87347728"
    },
    {
      "cell_type": "code",
      "execution_count": 23,
      "metadata": {
        "colab": {
          "base_uri": "https://localhost:8080/"
        },
        "id": "fb93a7cd-a637-4960-9577-08449a57b55d",
        "outputId": "d6284ad3-b9ef-4392-9d3b-34ab8c08289a"
      },
      "outputs": [
        {
          "output_type": "stream",
          "name": "stderr",
          "text": [
            "/usr/local/lib/python3.7/dist-packages/sklearn/utils/validation.py:598: FutureWarning: np.matrix usage is deprecated in 1.0 and will raise a TypeError in 1.2. Please convert to a numpy array with np.asarray. For more information see: https://numpy.org/doc/stable/reference/generated/numpy.matrix.html\n",
            "  FutureWarning,\n",
            "/usr/local/lib/python3.7/dist-packages/sklearn/utils/validation.py:598: FutureWarning: np.matrix usage is deprecated in 1.0 and will raise a TypeError in 1.2. Please convert to a numpy array with np.asarray. For more information see: https://numpy.org/doc/stable/reference/generated/numpy.matrix.html\n",
            "  FutureWarning,\n"
          ]
        }
      ],
      "source": [
        "df = pd.read_csv(\"/content/drive/MyDrive/hmdata/articles.csv.zip\")\n",
        "\n",
        "## Find categorical columns\n",
        "ohe_columns = []\n",
        "total = 0\n",
        "\n",
        "for col in df.columns:\n",
        "    if df[col].dtype == \"int64\" and len(df[col].unique()) <= 500:\n",
        "        ohe_columns.append(col)\n",
        "        total += len(df[col].unique())\n",
        "        \n",
        "## Do one hot encoding of the above categorical variables\n",
        "V = pd.get_dummies(df[ohe_columns], columns=ohe_columns).values\n",
        "\n",
        "\n",
        "## Get article features\n",
        "tfidf = TfidfVectorizer(min_df=3)\n",
        "V_desc = tfidf.fit_transform(df[\"detail_desc\"].fillna(\"nodesc\"))\n",
        "\n",
        "## Represent articles as vector of size 512\n",
        "EMB_SIZE = 16\n",
        "V = np.hstack([V.astype(\"float32\"), V_desc.todense()])\n",
        "svd = TruncatedSVD(n_components=EMB_SIZE, random_state=0)\n",
        "svd.fit(V)\n",
        "V = svd.transform(V)\n",
        "\n",
        "np.save(\"articles.npy\", V)"
      ],
      "id": "fb93a7cd-a637-4960-9577-08449a57b55d"
    },
    {
      "cell_type": "code",
      "execution_count": 24,
      "metadata": {
        "id": "64a3715e-de70-49d4-b057-e0b674ca65ff"
      },
      "outputs": [],
      "source": [
        "def item_representation_1():\n",
        "    df_art = pd.read_csv(path+\"articles.csv.zip\",dtype=art_dtypes)\n",
        "    le = LabelEncoder()\n",
        "    le.fit(df_art[\"index_code\"].unique())\n",
        "    df_art[\"index_code\"] = le.transform(df_art[\"index_code\"])\n",
        "    \n",
        "    dict_vec = {}\n",
        "    vec_art = np.load(\"articles.npy\")\n",
        "    df_vec = pd.concat([df_art[\"article_id\"],pd.DataFrame(vec_art)],axis=1)\n",
        "    for i in range(len(vec_art)):\n",
        "        dict_vec[df_art[\"article_id\"][i]] = vec_art[i]\n",
        "    del vec_art,df_vec\n",
        "    \n",
        "    return df_art, dict_vec\n",
        "    "
      ],
      "id": "64a3715e-de70-49d4-b057-e0b674ca65ff"
    },
    {
      "cell_type": "code",
      "source": [
        ""
      ],
      "metadata": {
        "id": "eM5j3N2Z8kMG"
      },
      "id": "eM5j3N2Z8kMG",
      "execution_count": 24,
      "outputs": []
    },
    {
      "cell_type": "markdown",
      "metadata": {
        "id": "7cbe5f64-354c-451e-a9e0-eb114440f8f0"
      },
      "source": [
        "Taken together, the two cells above give us all the features we want to represent articles."
      ],
      "id": "7cbe5f64-354c-451e-a9e0-eb114440f8f0"
    },
    {
      "cell_type": "markdown",
      "metadata": {
        "id": "f0c3082e-1da7-466f-8b9f-c777c8ef63cd"
      },
      "source": [
        "Now lets define some functions to extract user representations. The different functions will contain different ways of representing users.\n",
        "\n",
        "We bootstrap by providing a simple set of features to represent users in user_representation_1(). This function returns the dataframe of user features."
      ],
      "id": "f0c3082e-1da7-466f-8b9f-c777c8ef63cd"
    },
    {
      "cell_type": "code",
      "execution_count": 25,
      "metadata": {
        "id": "5de63a95-ef6c-4796-8e59-0cb33b9b948e"
      },
      "outputs": [],
      "source": [
        "def user_representation_1():\n",
        "    path = '/content/drive/MyDrive/hmdata/'\n",
        "    df_cust = pd.read_csv(path+\"customers.csv.zip\",dtype=cust_dtypes)\n",
        "    df_cust[\"age\"] = df_cust[\"age\"].fillna(df_cust[\"age\"].mean())\n",
        "    df_cust[[\"FN\",\"Active\"]] = df_cust[[\"FN\",\"Active\"]].fillna(0)\n",
        "    df_cust[\"club_member_status\"] = df_cust[\"club_member_status\"].apply(lambda x:1 if x == \"ACTIVE\" else 0)\n",
        "    df_cust[\"fashion_news_frequency\"] = df_cust[\"fashion_news_frequency\"].apply(lambda x:0 if x == \"NONE\" else 1)\n",
        "    df_cust = df_cust.drop([\"postal_code\"], axis=1)\n",
        "    return df_cust"
      ],
      "id": "5de63a95-ef6c-4796-8e59-0cb33b9b948e"
    },
    {
      "cell_type": "code",
      "execution_count": 26,
      "metadata": {
        "id": "65dbcef5-701a-4999-b696-3d871ccb485d"
      },
      "outputs": [],
      "source": [
        "def user_representation_2():\n",
        "    \"\"\"\n",
        "    TODO -- compute user representations as the average\n",
        "    of the embeddings of the recently purchased articles\n",
        "    return user representation\n",
        "\n",
        "    Hint: You may find pd.DataFrame(item_representation_1()[1]).transpose() useful\n",
        "    \"\"\"\n",
        "\n",
        "    path = '/content/drive/MyDrive/hmdata/'\n",
        "\n",
        "    day_start = datetime.datetime(2019,9,23) - datetime.timedelta(days=36)\n",
        "    day_end = datetime.datetime(2019,9,23) - datetime.timedelta(days=6)\n",
        "\n",
        "    df_trans = pd.read_csv(path + \"transactions_train.csv.zip\", dtype=tran_dtypes)\n",
        "\n",
        "    df_trans.t_dat = pd.to_datetime(df_trans.t_dat)\n",
        "\n",
        "    df_trans = df_trans[(df_trans.t_dat > day_start) & (df_trans.t_dat < day_end)]\n",
        "\n",
        "    article_embeddings = pd.DataFrame(item_representation_1()[1]).transpose().reset_index()\n",
        "    article_embeddings.columns = ['article_id'] + [f\"embed_{i}\" for i in range(len(article_embeddings.columns.to_list())-1)]\n",
        "\n",
        "    df_merged = df_trans.merge(article_embeddings, how=\"left\", on=\"article_id\").sort_values(by='t_dat')\n",
        "\n",
        "    df_merged = (df_merged.groupby([\"customer_id\"])\n",
        "                .tail(5)[[\"customer_id\"]+[f\"embed_{i}\" for i in range(len(article_embeddings.columns.to_list())-1)]]\n",
        "                .groupby([\"customer_id\"])\n",
        "                .mean()\n",
        "                .reset_index()\n",
        "                )\n",
        "    \n",
        "    del df_trans\n",
        "    del article_embeddings\n",
        "\n",
        "    gc.collect() \n",
        "    return df_merged\n",
        "\n",
        "def user_representation_3():\n",
        "    \"\"\"\n",
        "    OPTIONAL -- compute user representations as the output\n",
        "    of the doc2vec model.\n",
        "    https://cs.stanford.edu/~quocle/paragraph_vector.pdf\n",
        "    Doc2vec model is an embedding learning method\n",
        "    that enables us to learn representations of a document.\n",
        "    We treat each user as a document, and the set of articles\n",
        "    the user has purchased as the set of words in the document.\n",
        "    \"\"\"\n",
        "    return None"
      ],
      "id": "65dbcef5-701a-4999-b696-3d871ccb485d"
    },
    {
      "cell_type": "markdown",
      "metadata": {
        "id": "d39b7430-bf43-4f16-b7a8-a6edbd078e1d"
      },
      "source": [
        "As part of the goal for part B of this week's project, please use the above two functions to implement the two user representation techniques mentioned in the project jumpstart.\n",
        "\n",
        "You can run the rest of the notebook for now, and come back to these functions, implement them and re-run some of the code below and use user_representation_2() (and optionally user_representation_3()) to get the appropriate user features to use to train the model for the downstream task.\n",
        "\n",
        "Lets write a function that would read the transactions data and return the dataframes for the transactions within the dates we want to consider, along with the dataframes for articles features: df_art and dict_vec."
      ],
      "id": "d39b7430-bf43-4f16-b7a8-a6edbd078e1d"
    },
    {
      "cell_type": "code",
      "execution_count": 27,
      "metadata": {
        "id": "55c3e4dd-ce84-4199-9215-06490305db3c"
      },
      "outputs": [],
      "source": [
        "path = '/content/drive/MyDrive/hmdata/'\n",
        "def read_data(day_oldest):\n",
        "    df_trans = pd.read_csv(path+\"transactions_train.csv.zip\",dtype=tran_dtypes)\n",
        "    df_trans[\"t_dat\"] = pd.to_datetime(df_trans[\"t_dat\"],format=\"%Y-%m-%d\")\n",
        "\n",
        "    df_trans = df_trans.query(f\"t_dat >= '{day_oldest}'\").copy()\n",
        "    df_trans = df_trans.drop_duplicates([\"customer_id\",\"article_id\",\"t_dat\"])\n",
        "    df_art,dict_vec = item_representation_1()\n",
        "    df_trans = df_trans.merge(df_art[[\"article_id\",\"product_code\",\"product_type_no\",\"graphical_appearance_no\",\"colour_group_code\",\"department_no\",\"index_code\",\"index_group_no\",\"section_no\",\"garment_group_no\"]],how=\"left\",on=\"article_id\")\n",
        "\n",
        "    return df_trans, df_art, dict_vec"
      ],
      "id": "55c3e4dd-ce84-4199-9215-06490305db3c"
    },
    {
      "cell_type": "markdown",
      "metadata": {
        "id": "4128aa41-0a7c-405c-a2c2-02a3e19678f2"
      },
      "source": [
        "Now we have all the ingredients we need -- we have a basic version of user representations and we have the article representations, and transactions data on which we can train our downstream task.\n",
        "\n",
        "The downstream task we consider is the task of predicting whether or not a user will purchase an article. This is the same task that we have been dealing with in the past 2 weeks.\n",
        "\n",
        "Lets define a train() function that will consider the start and end dates and split data based on these, generate the training data, do random negative sampling and train the model."
      ],
      "id": "4128aa41-0a7c-405c-a2c2-02a3e19678f2"
    },
    {
      "cell_type": "code",
      "execution_count": 28,
      "metadata": {
        "id": "5e0c7a4f-8e4d-42f7-b379-1ebc870375d9"
      },
      "outputs": [],
      "source": [
        "def train():\n",
        "    #### Transaction start date say it is from 2019/9/23 and say we take 1 week data\n",
        "    day_start = datetime.datetime(2019,9,23) - datetime.timedelta(days=6)\n",
        "    #### Transaction end date\n",
        "    day_end = datetime.datetime(2019,9,23) - datetime.timedelta(days=0)\n",
        "    \n",
        "    ######## Splitting data based on date ###########################\n",
        "    ####### Train date ###########################################\n",
        "    ## Let's consider the training data for 1 year\n",
        "    day_start_hist = day_start - datetime.timedelta(days=366)\n",
        "    day_end_hist = day_start - datetime.timedelta(days=1)\n",
        "    \n",
        "    df_trans, df_art, dict_vec = read_data(day_oldest = datetime.datetime(2018,9,23))\n",
        "\n",
        "    df_cust = user_representation_2()\n",
        "\n",
        "    query_date = f\"((t_dat >= '{day_start}') and (t_dat <= '{day_end}'))\"\n",
        "    top_art_all = df_trans.query(query_date ).groupby(\"article_id\")[\"t_dat\"].count().sort_values(ascending = False).index[:N].tolist()\n",
        "\n",
        "    \n",
        "    \n",
        "    \n",
        "    ############### Create training data #################################################################################\n",
        "    \n",
        "    \n",
        "    list_df_buy = []\n",
        "    list_cust =[]\n",
        "    \n",
        "    # make positive samples\n",
        "    list_df_buy = df_trans.query(f\"(t_dat >= '{day_start}') and (t_dat <= '{day_end}') and (article_id in @top_art_all)\").drop_duplicates([\"customer_id\",\"article_id\"])[[\"customer_id\",\"article_id\"]].copy()\n",
        "    list_df_buy[\"target\"] = 1\n",
        "    list_cust = list_df_buy[\"customer_id\"].unique().tolist()\n",
        "        \n",
        "        \n",
        "    # make negative samples (random selection)\n",
        "    \n",
        "    list_df_nobuy = pd.concat([pd.DataFrame({\"customer_id\":x,\"article_id\":random.sample(top_art_all,nobuy)}) for x in list_cust])\n",
        "    list_df_nobuy[\"target\"] = 0\n",
        "    list_train = pd.concat([list_df_buy,list_df_nobuy]).drop_duplicates([\"customer_id\",\"article_id\"])\n",
        "    del list_df_nobuy\n",
        "\n",
        "    # add feature\n",
        "    df_train = pd.DataFrame()\n",
        "    \n",
        "    ########## Merging item features with the transactions data ###################################################\n",
        "    list_train = list_train.merge(df_art[[\"article_id\",\"product_code\",\"product_type_no\",\"graphical_appearance_no\",\"colour_group_code\",\"department_no\",\"index_code\",\"index_group_no\",\"section_no\",\"garment_group_no\"]],how=\"left\",on=\"article_id\")\n",
        "    \n",
        "    ######### Merging customer data with the above data ######################################\n",
        "    list_train = list_train.merge(df_cust, how=\"left\", on=\"customer_id\")\n",
        "    df_train = df_train.append(list_train)\n",
        "    del list_train\n",
        "    gc.collect()\n",
        "    \n",
        "    \n",
        "    # now that we have all the data in place, lets train the lgbm model\n",
        "\n",
        "    # train lgbm\n",
        "    X_train = df_train.drop([\"customer_id\",\"product_code\",\"product_type_no\",\"department_no\",\"target\"],axis=1)\n",
        "    y_train = df_train[\"target\"]\n",
        "    del df_train\n",
        "    \n",
        "    X_tr, X_va, y_tr, y_va = train_test_split(X_train,y_train,stratify = y_train)\n",
        "    d_tr = lgb.Dataset(X_tr, label=y_tr,  free_raw_data=False)\n",
        "    d_va = lgb.Dataset(X_va, label=y_va,  free_raw_data=False)\n",
        "    lgbm_model = lgb.train(lgb_params, train_set=d_tr, num_boost_round=n_round, valid_sets=[d_tr,d_va], verbose_eval=500, early_stopping_rounds=100)\n",
        "    \n",
        "    # save model\n",
        "    pd.to_pickle(lgbm_model,\"lgbm_model.pkl\")\n",
        "    del X_train, y_train, X_tr, X_va, y_tr, y_va, d_tr, d_va\n",
        "    gc.collect()\n",
        "    del df_trans, df_art, df_cust\n",
        "    gc.collect()\n",
        "    return 0"
      ],
      "id": "5e0c7a4f-8e4d-42f7-b379-1ebc870375d9"
    },
    {
      "cell_type": "code",
      "execution_count": 29,
      "metadata": {
        "id": "afb1b72d-7f50-4dc8-a44c-95dcf9c537d2"
      },
      "outputs": [],
      "source": [
        "#user_representation_1\n",
        "##train()"
      ],
      "id": "afb1b72d-7f50-4dc8-a44c-95dcf9c537d2"
    },
    {
      "cell_type": "code",
      "source": [
        "#user_representation_2\n",
        "train()"
      ],
      "metadata": {
        "colab": {
          "base_uri": "https://localhost:8080/"
        },
        "id": "TGSSXqG88qcg",
        "outputId": "6cf6d10f-91d6-485e-b53d-85bc60ab9181"
      },
      "id": "TGSSXqG88qcg",
      "execution_count": 30,
      "outputs": [
        {
          "output_type": "stream",
          "name": "stdout",
          "text": [
            "Training until validation scores don't improve for 100 rounds.\n",
            "[500]\ttraining's auc: 0.805601\tvalid_1's auc: 0.795517\n",
            "[1000]\ttraining's auc: 0.824915\tvalid_1's auc: 0.806489\n",
            "[1500]\ttraining's auc: 0.837807\tvalid_1's auc: 0.812532\n",
            "[2000]\ttraining's auc: 0.847885\tvalid_1's auc: 0.816843\n",
            "Did not meet early stopping. Best iteration is:\n",
            "[2000]\ttraining's auc: 0.847885\tvalid_1's auc: 0.816843\n"
          ]
        },
        {
          "output_type": "execute_result",
          "data": {
            "text/plain": [
              "0"
            ]
          },
          "metadata": {},
          "execution_count": 30
        }
      ]
    },
    {
      "cell_type": "code",
      "source": [
        "##screenshot of results from user_representation_1"
      ],
      "metadata": {
        "id": "0ozhujf9ItMG"
      },
      "id": "0ozhujf9ItMG",
      "execution_count": null,
      "outputs": []
    },
    {
      "cell_type": "markdown",
      "source": [
        "![Screen Shot 2022-08-04 at 9.08.00 AM.png](data:image/png;base64,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)"
      ],
      "metadata": {
        "id": "RLtvZgqEIuRG"
      },
      "id": "RLtvZgqEIuRG"
    },
    {
      "cell_type": "markdown",
      "metadata": {
        "id": "2a4b63a5-56ee-4bd2-b7b8-2aebb5299b31"
      },
      "source": [
        "We have now trained a light gbm model using user_representation_1() function as the user representation technique. The key goals for part B of this week's project are to implement user_representation_2(), where we represent the user as the average of embeddings of their recently purchased articles.\n"
      ],
      "id": "2a4b63a5-56ee-4bd2-b7b8-2aebb5299b31"
    },
    {
      "cell_type": "markdown",
      "metadata": {
        "id": "4940f48d-08e5-4130-be2c-d15622012620"
      },
      "source": [
        "Once you have implemented the function, please note to change the line:\n",
        "\n",
        "df_cust = user_representation_1()\n",
        "\n",
        "to the appropriate function name and run re-train the model. Please report the performance numbers with each of the two user representations.\n",
        "\n",
        "This should complete the week 3 project!"
      ],
      "id": "4940f48d-08e5-4130-be2c-d15622012620"
    },
    {
      "cell_type": "markdown",
      "metadata": {
        "id": "ydLW7dPiuw-E"
      },
      "source": [
        "### Optional task 1: training a Doc2Vec model\n",
        "\n",
        "If you want an extra challenge, you can try implementing Doc2vec representations in user_representation_3(). The Doc2vec model is an embedding learning method\n",
        "    that enables us to learn representations of a document.\n",
        "    We treat each user as a document, and the set of articles\n",
        "    the user has purchased as the set of words in the document."
      ],
      "id": "ydLW7dPiuw-E"
    },
    {
      "cell_type": "markdown",
      "metadata": {
        "id": "ce141145-f5af-4f2d-9d94-f4bb50e6208f"
      },
      "source": [
        "### Optional task 2: training a sequential LSTM model\n",
        "\n",
        "Another optional task here would be to implement user_representation_4() where user representations are learnt by a sequential LSTM model. The LSTM model will need to be trained on a task -- the task itself could be the downstream task of predicting whether or not a user would purchase a given article given a sequence of previous articles. The final hidden layer of the lstm model can be used as the user representation."
      ],
      "id": "ce141145-f5af-4f2d-9d94-f4bb50e6208f"
    },
    {
      "cell_type": "code",
      "execution_count": 30,
      "metadata": {
        "id": "88eb3b58-062c-4c96-b3f0-2db4407ce1b3"
      },
      "outputs": [],
      "source": [
        ""
      ],
      "id": "88eb3b58-062c-4c96-b3f0-2db4407ce1b3"
    }
  ],
  "metadata": {
    "accelerator": "GPU",
    "colab": {
      "machine_shape": "hm",
      "name": " week3-ann-user-representations_morrison.ipynb",
      "provenance": [],
      "collapsed_sections": [],
      "include_colab_link": true
    },
    "environment": {
      "kernel": "python3",
      "name": "tf2-gpu.2-6.m89",
      "type": "gcloud",
      "uri": "gcr.io/deeplearning-platform-release/tf2-gpu.2-6:m89"
    },
    "gpuClass": "standard",
    "kernelspec": {
      "display_name": "Python 3",
      "language": "python",
      "name": "python3"
    },
    "language_info": {
      "codemirror_mode": {
        "name": "ipython",
        "version": 3
      },
      "file_extension": ".py",
      "mimetype": "text/x-python",
      "name": "python",
      "nbconvert_exporter": "python",
      "pygments_lexer": "ipython3",
      "version": "3.7.12"
    }
  },
  "nbformat": 4,
  "nbformat_minor": 5
}